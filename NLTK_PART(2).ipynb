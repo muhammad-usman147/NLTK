{
 "cells": [
  {
   "cell_type": "code",
   "execution_count": 1,
   "metadata": {},
   "outputs": [],
   "source": [
    "import nltk"
   ]
  },
  {
   "cell_type": "markdown",
   "metadata": {},
   "source": [
    "####  Stemmming with NLTK"
   ]
  },
  {
   "cell_type": "markdown",
   "metadata": {},
   "source": [
    "###### Stemming in short refers to normalizing the words, which have same meaning into single words..."
   ]
  },
  {
   "cell_type": "code",
   "execution_count": 2,
   "metadata": {},
   "outputs": [],
   "source": [
    "from nltk.stem import PorterStemmer\n",
    "from nltk.tokenize import word_tokenize, sent_tokenize"
   ]
  },
  {
   "cell_type": "code",
   "execution_count": 4,
   "metadata": {},
   "outputs": [],
   "source": [
    "ps_obj = PorterStemmer()"
   ]
  },
  {
   "cell_type": "code",
   "execution_count": 8,
   "metadata": {},
   "outputs": [],
   "source": [
    "example_word = ['pythoned','pythoner','pythons','pythoning','pythonly']"
   ]
  },
  {
   "cell_type": "code",
   "execution_count": 9,
   "metadata": {},
   "outputs": [
    {
     "name": "stdout",
     "output_type": "stream",
     "text": [
      "python\n",
      "python\n",
      "python\n",
      "python\n",
      "pythonli\n"
     ]
    }
   ],
   "source": [
    "for w in example_word:\n",
    "    print(ps_obj.stem(w))"
   ]
  },
  {
   "cell_type": "code",
   "execution_count": 10,
   "metadata": {},
   "outputs": [],
   "source": [
    "example_word2 = ['books','booking','booker','booked']"
   ]
  },
  {
   "cell_type": "code",
   "execution_count": 11,
   "metadata": {},
   "outputs": [
    {
     "name": "stdout",
     "output_type": "stream",
     "text": [
      "book\n",
      "book\n",
      "booker\n",
      "book\n"
     ]
    }
   ],
   "source": [
    "for w  in example_word2:\n",
    "    print(ps_obj.stem(w))"
   ]
  },
  {
   "cell_type": "markdown",
   "metadata": {},
   "source": [
    "#####  Stemming on a Typical Text"
   ]
  },
  {
   "cell_type": "code",
   "execution_count": 13,
   "metadata": {},
   "outputs": [],
   "source": [
    "file = open('text_doc.txt','r')\n",
    "text = file.read()\n",
    "file.close()"
   ]
  },
  {
   "cell_type": "code",
   "execution_count": 14,
   "metadata": {},
   "outputs": [
    {
     "data": {
      "text/plain": [
       "'Far far away, behind the word mountains, far from the countries Vokalia and Consonantia, there live the blind texts. Separated they live in Bookmarksgrove right at the coast of the Semantics, a large language ocean. A small river named Duden flows by their place and supplies it with the necessary regelialia. It is a paradisematic country, in which roasted parts of sentences fly into your mouth. Even the all-powerful Pointing has no control about the blind texts it is an almost unorthographic life One day however a small line of blind text by the name of Lorem Ipsum decided to leave for the far World of Grammar. The Big Oxmox advised her not to do so, because there were thousands of bad Commas, wild Question Marks and devious Semikoli, but the Little Blind Text didnâ€™t listen. She packed her seven versalia, put her initial into the belt and made herself on the way. When she reached the first hills of the Italic Mountains, she had a last view back on the skyline of her hometown Bookmarksgrove, the headline of Alphabet Village and the subline of her own road, the Line Lane. Pityful a rethoric question ran over her cheek, then\\n\\n'"
      ]
     },
     "execution_count": 14,
     "metadata": {},
     "output_type": "execute_result"
    }
   ],
   "source": [
    "text"
   ]
  },
  {
   "cell_type": "code",
   "execution_count": 15,
   "metadata": {},
   "outputs": [],
   "source": [
    "wordstokenize = word_tokenize(text)"
   ]
  },
  {
   "cell_type": "code",
   "execution_count": 16,
   "metadata": {},
   "outputs": [
    {
     "data": {
      "text/plain": [
       "['Far',\n",
       " 'far',\n",
       " 'away',\n",
       " ',',\n",
       " 'behind',\n",
       " 'the',\n",
       " 'word',\n",
       " 'mountains',\n",
       " ',',\n",
       " 'far',\n",
       " 'from',\n",
       " 'the',\n",
       " 'countries',\n",
       " 'Vokalia',\n",
       " 'and',\n",
       " 'Consonantia',\n",
       " ',',\n",
       " 'there',\n",
       " 'live',\n",
       " 'the',\n",
       " 'blind',\n",
       " 'texts',\n",
       " '.',\n",
       " 'Separated',\n",
       " 'they',\n",
       " 'live',\n",
       " 'in',\n",
       " 'Bookmarksgrove',\n",
       " 'right',\n",
       " 'at',\n",
       " 'the',\n",
       " 'coast',\n",
       " 'of',\n",
       " 'the',\n",
       " 'Semantics',\n",
       " ',',\n",
       " 'a',\n",
       " 'large',\n",
       " 'language',\n",
       " 'ocean',\n",
       " '.',\n",
       " 'A',\n",
       " 'small',\n",
       " 'river',\n",
       " 'named',\n",
       " 'Duden',\n",
       " 'flows',\n",
       " 'by',\n",
       " 'their',\n",
       " 'place',\n",
       " 'and',\n",
       " 'supplies',\n",
       " 'it',\n",
       " 'with',\n",
       " 'the',\n",
       " 'necessary',\n",
       " 'regelialia',\n",
       " '.',\n",
       " 'It',\n",
       " 'is',\n",
       " 'a',\n",
       " 'paradisematic',\n",
       " 'country',\n",
       " ',',\n",
       " 'in',\n",
       " 'which',\n",
       " 'roasted',\n",
       " 'parts',\n",
       " 'of',\n",
       " 'sentences',\n",
       " 'fly',\n",
       " 'into',\n",
       " 'your',\n",
       " 'mouth',\n",
       " '.',\n",
       " 'Even',\n",
       " 'the',\n",
       " 'all-powerful',\n",
       " 'Pointing',\n",
       " 'has',\n",
       " 'no',\n",
       " 'control',\n",
       " 'about',\n",
       " 'the',\n",
       " 'blind',\n",
       " 'texts',\n",
       " 'it',\n",
       " 'is',\n",
       " 'an',\n",
       " 'almost',\n",
       " 'unorthographic',\n",
       " 'life',\n",
       " 'One',\n",
       " 'day',\n",
       " 'however',\n",
       " 'a',\n",
       " 'small',\n",
       " 'line',\n",
       " 'of',\n",
       " 'blind',\n",
       " 'text',\n",
       " 'by',\n",
       " 'the',\n",
       " 'name',\n",
       " 'of',\n",
       " 'Lorem',\n",
       " 'Ipsum',\n",
       " 'decided',\n",
       " 'to',\n",
       " 'leave',\n",
       " 'for',\n",
       " 'the',\n",
       " 'far',\n",
       " 'World',\n",
       " 'of',\n",
       " 'Grammar',\n",
       " '.',\n",
       " 'The',\n",
       " 'Big',\n",
       " 'Oxmox',\n",
       " 'advised',\n",
       " 'her',\n",
       " 'not',\n",
       " 'to',\n",
       " 'do',\n",
       " 'so',\n",
       " ',',\n",
       " 'because',\n",
       " 'there',\n",
       " 'were',\n",
       " 'thousands',\n",
       " 'of',\n",
       " 'bad',\n",
       " 'Commas',\n",
       " ',',\n",
       " 'wild',\n",
       " 'Question',\n",
       " 'Marks',\n",
       " 'and',\n",
       " 'devious',\n",
       " 'Semikoli',\n",
       " ',',\n",
       " 'but',\n",
       " 'the',\n",
       " 'Little',\n",
       " 'Blind',\n",
       " 'Text',\n",
       " 'didnâ€™t',\n",
       " 'listen',\n",
       " '.',\n",
       " 'She',\n",
       " 'packed',\n",
       " 'her',\n",
       " 'seven',\n",
       " 'versalia',\n",
       " ',',\n",
       " 'put',\n",
       " 'her',\n",
       " 'initial',\n",
       " 'into',\n",
       " 'the',\n",
       " 'belt',\n",
       " 'and',\n",
       " 'made',\n",
       " 'herself',\n",
       " 'on',\n",
       " 'the',\n",
       " 'way',\n",
       " '.',\n",
       " 'When',\n",
       " 'she',\n",
       " 'reached',\n",
       " 'the',\n",
       " 'first',\n",
       " 'hills',\n",
       " 'of',\n",
       " 'the',\n",
       " 'Italic',\n",
       " 'Mountains',\n",
       " ',',\n",
       " 'she',\n",
       " 'had',\n",
       " 'a',\n",
       " 'last',\n",
       " 'view',\n",
       " 'back',\n",
       " 'on',\n",
       " 'the',\n",
       " 'skyline',\n",
       " 'of',\n",
       " 'her',\n",
       " 'hometown',\n",
       " 'Bookmarksgrove',\n",
       " ',',\n",
       " 'the',\n",
       " 'headline',\n",
       " 'of',\n",
       " 'Alphabet',\n",
       " 'Village',\n",
       " 'and',\n",
       " 'the',\n",
       " 'subline',\n",
       " 'of',\n",
       " 'her',\n",
       " 'own',\n",
       " 'road',\n",
       " ',',\n",
       " 'the',\n",
       " 'Line',\n",
       " 'Lane',\n",
       " '.',\n",
       " 'Pityful',\n",
       " 'a',\n",
       " 'rethoric',\n",
       " 'question',\n",
       " 'ran',\n",
       " 'over',\n",
       " 'her',\n",
       " 'cheek',\n",
       " ',',\n",
       " 'then']"
      ]
     },
     "execution_count": 16,
     "metadata": {},
     "output_type": "execute_result"
    }
   ],
   "source": [
    "wordstokenize"
   ]
  },
  {
   "cell_type": "code",
   "execution_count": 18,
   "metadata": {},
   "outputs": [
    {
     "name": "stdout",
     "output_type": "stream",
     "text": [
      "far\n",
      "far\n",
      "away\n",
      ",\n",
      "behind\n",
      "the\n",
      "word\n",
      "mountain\n",
      ",\n",
      "far\n",
      "from\n",
      "the\n",
      "countri\n",
      "vokalia\n",
      "and\n",
      "consonantia\n",
      ",\n",
      "there\n",
      "live\n",
      "the\n",
      "blind\n",
      "text\n",
      ".\n",
      "separ\n",
      "they\n",
      "live\n",
      "in\n",
      "bookmarksgrov\n",
      "right\n",
      "at\n",
      "the\n",
      "coast\n",
      "of\n",
      "the\n",
      "semant\n",
      ",\n",
      "a\n",
      "larg\n",
      "languag\n",
      "ocean\n",
      ".\n",
      "A\n",
      "small\n",
      "river\n",
      "name\n",
      "duden\n",
      "flow\n",
      "by\n",
      "their\n",
      "place\n",
      "and\n",
      "suppli\n",
      "it\n",
      "with\n",
      "the\n",
      "necessari\n",
      "regelialia\n",
      ".\n",
      "It\n",
      "is\n",
      "a\n",
      "paradisemat\n",
      "countri\n",
      ",\n",
      "in\n",
      "which\n",
      "roast\n",
      "part\n",
      "of\n",
      "sentenc\n",
      "fli\n",
      "into\n",
      "your\n",
      "mouth\n",
      ".\n",
      "even\n",
      "the\n",
      "all-pow\n",
      "point\n",
      "ha\n",
      "no\n",
      "control\n",
      "about\n",
      "the\n",
      "blind\n",
      "text\n",
      "it\n",
      "is\n",
      "an\n",
      "almost\n",
      "unorthograph\n",
      "life\n",
      "one\n",
      "day\n",
      "howev\n",
      "a\n",
      "small\n",
      "line\n",
      "of\n",
      "blind\n",
      "text\n",
      "by\n",
      "the\n",
      "name\n",
      "of\n",
      "lorem\n",
      "ipsum\n",
      "decid\n",
      "to\n",
      "leav\n",
      "for\n",
      "the\n",
      "far\n",
      "world\n",
      "of\n",
      "grammar\n",
      ".\n",
      "the\n",
      "big\n",
      "oxmox\n",
      "advis\n",
      "her\n",
      "not\n",
      "to\n",
      "do\n",
      "so\n",
      ",\n",
      "becaus\n",
      "there\n",
      "were\n",
      "thousand\n",
      "of\n",
      "bad\n",
      "comma\n",
      ",\n",
      "wild\n",
      "question\n",
      "mark\n",
      "and\n",
      "deviou\n",
      "semikoli\n",
      ",\n",
      "but\n",
      "the\n",
      "littl\n",
      "blind\n",
      "text\n",
      "didnâ€™t\n",
      "listen\n",
      ".\n",
      "she\n",
      "pack\n",
      "her\n",
      "seven\n",
      "versalia\n",
      ",\n",
      "put\n",
      "her\n",
      "initi\n",
      "into\n",
      "the\n",
      "belt\n",
      "and\n",
      "made\n",
      "herself\n",
      "on\n",
      "the\n",
      "way\n",
      ".\n",
      "when\n",
      "she\n",
      "reach\n",
      "the\n",
      "first\n",
      "hill\n",
      "of\n",
      "the\n",
      "ital\n",
      "mountain\n",
      ",\n",
      "she\n",
      "had\n",
      "a\n",
      "last\n",
      "view\n",
      "back\n",
      "on\n",
      "the\n",
      "skylin\n",
      "of\n",
      "her\n",
      "hometown\n",
      "bookmarksgrov\n",
      ",\n",
      "the\n",
      "headlin\n",
      "of\n",
      "alphabet\n",
      "villag\n",
      "and\n",
      "the\n",
      "sublin\n",
      "of\n",
      "her\n",
      "own\n",
      "road\n",
      ",\n",
      "the\n",
      "line\n",
      "lane\n",
      ".\n",
      "pity\n",
      "a\n",
      "rethor\n",
      "question\n",
      "ran\n",
      "over\n",
      "her\n",
      "cheek\n",
      ",\n",
      "then\n"
     ]
    }
   ],
   "source": [
    "for word in wordstokenize:\n",
    "    print(ps_obj.stem(word))"
   ]
  },
  {
   "cell_type": "markdown",
   "metadata": {},
   "source": [
    "#### Parts Of Speech Tagging"
   ]
  },
  {
   "cell_type": "markdown",
   "metadata": {},
   "source": [
    "##### In Parts of Speech tagging, we will tag all the words to their relative parts of speech"
   ]
  },
  {
   "cell_type": "markdown",
   "metadata": {},
   "source": [
    "###### CC\tcoordinating conjunction\n",
    "###### CD\tcardinal digit\n",
    "###### DT\tdeterminer\n",
    "###### EX\texistential there (like: \"there is\" ... think of it like \"there exists\")\n",
    "###### FW\tforeign word\n",
    "###### IN\tpreposition/subordinating conjunction\n",
    "###### JJ\tadjective\t'big'\n",
    "###### JJR\tadjective, comparative\t'bigger'\n",
    "###### JJS\tadjective, superlative\t'biggest'\n",
    "###### LS\tlist marker\t1)\n",
    "###### MD\tmodal\tcould, will\n",
    "###### NN\tnoun, singular 'desk'\n",
    "###### NNS\tnoun plural\t'desks'\n",
    "###### NNP\tproper noun, singular\t'Harrison'\n",
    "###### NNPS\tproper noun, plural\t'Americans'\n",
    "###### PDT\tpredeterminer\t'all the kids'\n",
    "###### POS\tpossessive ending\tparent\\'s\n",
    "###### PRP\tpersonal pronoun\tI, he, she\n",
    "###### PRP\tpossessive pronoun\tmy, his, hers\n",
    "###### RB\tadverb\tvery, silently,\n",
    "###### RBR\tadverb, comparative\tbetter\n",
    "###### RBS\tadverb, superlative\tbest\n",
    "###### RP\tparticle\tgive up\n",
    "###### TO\tto\tgo 'to' the store.\n",
    "###### UH\tinterjection\terrrrrrrrm\n",
    "###### VB\tverb, base form\ttake\n",
    "###### VBD\tverb, past tense\ttook\n",
    "###### VBG\tverb, gerund/present participle\ttaking\n",
    "###### VBN\tverb, past participle\ttaken\n",
    "###### VBP\tverb, sing. present, non-3d\ttake\n",
    "###### VBZ\tverb, 3rd person sing. present\ttakes\n",
    "###### WDT\twh-determiner\twhich\n",
    "###### WP\twh-pronoun\twho, what\n",
    "###### WP\tpossessive wh-pronoun\twhose\n",
    "###### WRB\twh-abverb\twhere, when\n"
   ]
  },
  {
   "cell_type": "code",
   "execution_count": 19,
   "metadata": {},
   "outputs": [],
   "source": [
    "file = open('text_doc.txt','r')\n",
    "text = file.read()\n",
    "file.close()"
   ]
  },
  {
   "cell_type": "code",
   "execution_count": 20,
   "metadata": {},
   "outputs": [
    {
     "data": {
      "text/plain": [
       "'Far far away, behind the word mountains, far from the countries Vokalia and Consonantia, there live the blind texts. Separated they live in Bookmarksgrove right at the coast of the Semantics, a large language ocean. A small river named Duden flows by their place and supplies it with the necessary regelialia. It is a paradisematic country, in which roasted parts of sentences fly into your mouth. Even the all-powerful Pointing has no control about the blind texts it is an almost unorthographic life One day however a small line of blind text by the name of Lorem Ipsum decided to leave for the far World of Grammar. The Big Oxmox advised her not to do so, because there were thousands of bad Commas, wild Question Marks and devious Semikoli, but the Little Blind Text didnâ€™t listen. She packed her seven versalia, put her initial into the belt and made herself on the way. When she reached the first hills of the Italic Mountains, she had a last view back on the skyline of her hometown Bookmarksgrove, the headline of Alphabet Village and the subline of her own road, the Line Lane. Pityful a rethoric question ran over her cheek, then she continued her way. On her way she met a copy. The copy warned the Little Blind Text, that where it came from it would have been rewritten a thousand times and everything that was left from its origin would be the word \"and\" and the Little Blind Text should turn around and return to its own, safe country. But nothing the copy said could convince her and so it didnâ€™t take long until a few insidious Copy Writers ambushed her, made her drunk with Longe and Parole and dragged her into their agency, where they abused her for their projects again and again. And if she hasnâ€™t been rewritten, then they are still using her.Far far away, behind the word mountains, far from the countries Vokalia and Consonantia, there live the blind texts. Separated they live in Bookmarksgrove right at the coast of the Semantics, a large language ocean. A small river named Duden flows by their place and supplies it with the necessary regelialia. It is a paradisematic country, in which roasted parts of sentences fly into your mouth. Even the all-powerful Pointing has no control about the blind texts it is an almost unorthographic life One day however a small line of blind text by the name of Lorem Ipsum decided to leave for the far World of Grammar. The Big Oxmox advised her not to do so, because there were thousands of bad Commas, wild Question Marks and devious Semikoli, but the Little Blind Text didnâ€™t listen. She packed her seven versalia, put her initial into the belt and made herself on the way. When she reached the first hills of the Italic Mountains, she had a last view back on the skyline of her hometown Bookmarksgrove, the headline of Alphabet Village and the'"
      ]
     },
     "execution_count": 20,
     "metadata": {},
     "output_type": "execute_result"
    }
   ],
   "source": [
    "text"
   ]
  },
  {
   "cell_type": "code",
   "execution_count": 23,
   "metadata": {},
   "outputs": [
    {
     "data": {
      "text/plain": [
       "'\\n- This PunktSentenceTokenizer is an already pretrained model, but you can also train it by yourself\\n  so we will try to use both methods.. pretrained and custom trained model\\n '"
      ]
     },
     "execution_count": 23,
     "metadata": {},
     "output_type": "execute_result"
    }
   ],
   "source": [
    "from nltk.tokenize import PunktSentenceTokenizer\n",
    "'''\n",
    "- This PunktSentenceTokenizer is an already pretrained model, but you can also train it by yourself\n",
    "  so we will try to use both methods.. pretrained and custom trained model\n",
    " '''"
   ]
  },
  {
   "cell_type": "code",
   "execution_count": 24,
   "metadata": {},
   "outputs": [],
   "source": [
    "pretrained_sent_tokenize = PunktSentenceTokenizer() "
   ]
  },
  {
   "cell_type": "code",
   "execution_count": 25,
   "metadata": {},
   "outputs": [],
   "source": [
    "PunkTokenize = pretrained_sent_tokenize.tokenize(text)"
   ]
  },
  {
   "cell_type": "code",
   "execution_count": 26,
   "metadata": {},
   "outputs": [
    {
     "data": {
      "text/plain": [
       "['Far far away, behind the word mountains, far from the countries Vokalia and Consonantia, there live the blind texts.',\n",
       " 'Separated they live in Bookmarksgrove right at the coast of the Semantics, a large language ocean.',\n",
       " 'A small river named Duden flows by their place and supplies it with the necessary regelialia.',\n",
       " 'It is a paradisematic country, in which roasted parts of sentences fly into your mouth.',\n",
       " 'Even the all-powerful Pointing has no control about the blind texts it is an almost unorthographic life One day however a small line of blind text by the name of Lorem Ipsum decided to leave for the far World of Grammar.',\n",
       " 'The Big Oxmox advised her not to do so, because there were thousands of bad Commas, wild Question Marks and devious Semikoli, but the Little Blind Text didnâ€™t listen.',\n",
       " 'She packed her seven versalia, put her initial into the belt and made herself on the way.',\n",
       " 'When she reached the first hills of the Italic Mountains, she had a last view back on the skyline of her hometown Bookmarksgrove, the headline of Alphabet Village and the subline of her own road, the Line Lane.',\n",
       " 'Pityful a rethoric question ran over her cheek, then she continued her way.',\n",
       " 'On her way she met a copy.',\n",
       " 'The copy warned the Little Blind Text, that where it came from it would have been rewritten a thousand times and everything that was left from its origin would be the word \"and\" and the Little Blind Text should turn around and return to its own, safe country.',\n",
       " 'But nothing the copy said could convince her and so it didnâ€™t take long until a few insidious Copy Writers ambushed her, made her drunk with Longe and Parole and dragged her into their agency, where they abused her for their projects again and again.',\n",
       " 'And if she hasnâ€™t been rewritten, then they are still using her.Far far away, behind the word mountains, far from the countries Vokalia and Consonantia, there live the blind texts.',\n",
       " 'Separated they live in Bookmarksgrove right at the coast of the Semantics, a large language ocean.',\n",
       " 'A small river named Duden flows by their place and supplies it with the necessary regelialia.',\n",
       " 'It is a paradisematic country, in which roasted parts of sentences fly into your mouth.',\n",
       " 'Even the all-powerful Pointing has no control about the blind texts it is an almost unorthographic life One day however a small line of blind text by the name of Lorem Ipsum decided to leave for the far World of Grammar.',\n",
       " 'The Big Oxmox advised her not to do so, because there were thousands of bad Commas, wild Question Marks and devious Semikoli, but the Little Blind Text didnâ€™t listen.',\n",
       " 'She packed her seven versalia, put her initial into the belt and made herself on the way.',\n",
       " 'When she reached the first hills of the Italic Mountains, she had a last view back on the skyline of her hometown Bookmarksgrove, the headline of Alphabet Village and the']"
      ]
     },
     "execution_count": 26,
     "metadata": {},
     "output_type": "execute_result"
    }
   ],
   "source": [
    "PunkTokenize"
   ]
  },
  {
   "cell_type": "code",
   "execution_count": 28,
   "metadata": {},
   "outputs": [
    {
     "name": "stdout",
     "output_type": "stream",
     "text": [
      "[('F', 'NNP'), ('a', 'DT'), ('r', 'NN'), (' ', 'NNP'), ('f', 'VBZ'), ('a', 'DT'), ('r', 'NN'), (' ', 'VBZ'), ('a', 'DT'), ('w', 'NN'), ('a', 'DT'), ('y', 'NN'), (',', ','), (' ', 'NNP'), ('b', 'NN'), ('e', 'NN'), ('h', 'NN'), ('i', 'JJ'), ('n', 'VBP'), ('d', 'JJ'), (' ', 'NNP'), ('t', 'NN'), ('h', 'NN'), ('e', 'NN'), (' ', 'NNP'), ('w', 'NN'), ('o', 'NN'), ('r', 'NN'), ('d', 'NN'), (' ', 'NNP'), ('m', 'NN'), ('o', 'NN'), ('u', 'JJ'), ('n', 'JJ'), ('t', 'IN'), ('a', 'DT'), ('i', 'JJ'), ('n', 'NN'), ('s', 'NN'), (',', ','), (' ', 'NNP'), ('f', 'VBZ'), ('a', 'DT'), ('r', 'NN'), (' ', 'NN'), ('f', 'NN'), ('r', 'NN'), ('o', 'IN'), ('m', 'NN'), (' ', 'NNP'), ('t', 'NN'), ('h', 'NN'), ('e', 'NN'), (' ', 'NNP'), ('c', 'VBZ'), ('o', 'JJ'), ('u', 'JJ'), ('n', 'NN'), ('t', 'NN'), ('r', 'NN'), ('i', 'NN'), ('e', 'VBP'), ('s', 'JJ'), (' ', 'NNP'), ('V', 'NNP'), ('o', 'MD'), ('k', 'VB'), ('a', 'DT'), ('l', 'NN'), ('i', 'NN'), ('a', 'DT'), (' ', 'NN'), ('a', 'DT'), ('n', 'JJ'), ('d', 'NN'), (' ', 'NNP'), ('C', 'NNP'), ('o', 'MD'), ('n', 'VB'), ('s', 'JJ'), ('o', 'NN'), ('n', 'IN'), ('a', 'DT'), ('n', 'JJ'), ('t', 'NN'), ('i', 'NN'), ('a', 'DT'), (',', ','), (' ', 'JJ'), ('t', 'NN'), ('h', 'NN'), ('e', 'NN'), ('r', 'NN'), ('e', 'NN'), (' ', 'NNP'), ('l', 'NN'), ('i', 'NN'), ('v', 'VBP'), ('e', 'NN'), (' ', 'NNP'), ('t', 'NN'), ('h', 'NN'), ('e', 'NN'), (' ', 'NNP'), ('b', 'NN'), ('l', 'NN'), ('i', 'NN'), ('n', 'VBP'), ('d', 'NN'), (' ', 'NNP'), ('t', 'NN'), ('e', 'NN'), ('x', 'NNP'), ('t', 'NN'), ('s', 'NN'), ('.', '.')]\n",
      "[('S', 'NNP'), ('e', 'VBZ'), ('p', 'VB'), ('a', 'DT'), ('r', 'NN'), ('a', 'DT'), ('t', 'NN'), ('e', 'NN'), ('d', 'NN'), (' ', 'NNP'), ('t', 'NN'), ('h', 'NN'), ('e', 'NN'), ('y', 'NN'), (' ', 'NNP'), ('l', 'NN'), ('i', 'NN'), ('v', 'VBP'), ('e', 'NN'), (' ', 'NN'), ('i', 'NN'), ('n', 'VBP'), (' ', 'NN'), ('B', 'NNP'), ('o', 'NN'), ('o', 'NN'), ('k', 'NN'), ('m', 'VBD'), ('a', 'DT'), ('r', 'NN'), ('k', 'NN'), ('s', 'VBD'), ('g', 'JJ'), ('r', 'NN'), ('o', 'NN'), ('v', 'NN'), ('e', 'NN'), (' ', 'NNP'), ('r', 'NN'), ('i', 'NN'), ('g', 'VBP'), ('h', 'NN'), ('t', 'NN'), (' ', 'VBZ'), ('a', 'DT'), ('t', 'NN'), (' ', 'NNP'), ('t', 'NN'), ('h', 'NN'), ('e', 'NN'), (' ', 'NNP'), ('c', 'VBZ'), ('o', 'RP'), ('a', 'DT'), ('s', 'NN'), ('t', 'NN'), (' ', 'NNP'), ('o', 'VBZ'), ('f', 'JJ'), (' ', 'NNP'), ('t', 'NN'), ('h', 'NN'), ('e', 'NN'), (' ', 'NNP'), ('S', 'NNP'), ('e', 'VBZ'), ('m', 'VB'), ('a', 'DT'), ('n', 'JJ'), ('t', 'NN'), ('i', 'NN'), ('c', 'VBP'), ('s', 'NN'), (',', ','), (' ', 'VB'), ('a', 'DT'), (' ', 'JJ'), ('l', 'NN'), ('a', 'DT'), ('r', 'NN'), ('g', 'NN'), ('e', 'NN'), (' ', 'NNP'), ('l', 'VBZ'), ('a', 'DT'), ('n', 'JJ'), ('g', 'NN'), ('u', 'IN'), ('a', 'DT'), ('g', 'NN'), ('e', 'NN'), (' ', 'NNP'), ('o', 'VBZ'), ('c', 'JJ'), ('e', 'NN'), ('a', 'DT'), ('n', 'NN'), ('.', '.')]\n",
      "[('A', 'DT'), (' ', 'JJ'), ('s', 'NN'), ('m', 'VBD'), ('a', 'DT'), ('l', 'NN'), ('l', 'NN'), (' ', 'NNP'), ('r', 'NN'), ('i', 'NN'), ('v', 'VBP'), ('e', 'NN'), ('r', 'NN'), (' ', 'NNP'), ('n', 'VBZ'), ('a', 'DT'), ('m', 'NN'), ('e', 'NN'), ('d', 'NN'), (' ', 'NNP'), ('D', 'NNP'), ('u', 'JJ'), ('d', 'NN'), ('e', 'NN'), ('n', 'JJ'), (' ', 'NNP'), ('f', 'NN'), ('l', 'NN'), ('o', 'NN'), ('w', 'NN'), ('s', 'NN'), (' ', 'NN'), ('b', 'NN'), ('y', 'NN'), (' ', 'NNP'), ('t', 'NN'), ('h', 'NN'), ('e', 'NN'), ('i', 'NN'), ('r', 'VBP'), (' ', 'JJ'), ('p', 'NN'), ('l', 'VBZ'), ('a', 'DT'), ('c', 'JJ'), ('e', 'NN'), (' ', 'VBZ'), ('a', 'DT'), ('n', 'JJ'), ('d', 'NN'), (' ', 'NNP'), ('s', 'NN'), ('u', 'JJ'), ('p', 'NN'), ('p', 'NN'), ('l', 'NN'), ('i', 'NN'), ('e', 'VBP'), ('s', 'JJ'), (' ', 'NN'), ('i', 'NN'), ('t', 'VBP'), (' ', 'IN'), ('w', 'NN'), ('i', 'NN'), ('t', 'VBP'), ('h', 'NN'), (' ', 'NNP'), ('t', 'NN'), ('h', 'NN'), ('e', 'NN'), (' ', 'NNP'), ('n', 'CC'), ('e', 'JJ'), ('c', 'NNS'), ('e', 'VBP'), ('s', 'JJ'), ('s', 'NN'), ('a', 'DT'), ('r', 'NN'), ('y', 'NN'), (' ', 'NNP'), ('r', 'NN'), ('e', 'NN'), ('g', 'NN'), ('e', 'NN'), ('l', 'NN'), ('i', 'VBZ'), ('a', 'DT'), ('l', 'NN'), ('i', 'NN'), ('a', 'DT'), ('.', '.')]\n",
      "[('I', 'PRP'), ('t', 'VBP'), (' ', 'JJ'), ('i', 'NN'), ('s', 'VBP'), (' ', 'PDT'), ('a', 'DT'), (' ', 'JJ'), ('p', 'NN'), ('a', 'DT'), ('r', 'NN'), ('a', 'DT'), ('d', 'NN'), ('i', 'NN'), ('s', 'VBP'), ('e', 'NN'), ('m', 'NN'), ('a', 'DT'), ('t', 'NN'), ('i', 'NN'), ('c', 'VBP'), (' ', 'NNP'), ('c', 'VBP'), ('o', 'JJ'), ('u', 'JJ'), ('n', 'NN'), ('t', 'NN'), ('r', 'NN'), ('y', 'NN'), (',', ','), (' ', 'VBP'), ('i', 'JJ'), ('n', 'VBP'), (' ', 'JJ'), ('w', 'NN'), ('h', 'NN'), ('i', 'JJ'), ('c', 'VBP'), ('h', 'NN'), (' ', 'NNP'), ('r', 'NN'), ('o', 'VBD'), ('a', 'DT'), ('s', 'JJ'), ('t', 'NN'), ('e', 'NN'), ('d', 'NN'), (' ', 'NNP'), ('p', 'VBZ'), ('a', 'DT'), ('r', 'NN'), ('t', 'NN'), ('s', 'NN'), (' ', 'NNP'), ('o', 'VBZ'), ('f', 'JJ'), (' ', 'NNP'), ('s', 'NN'), ('e', 'NN'), ('n', 'JJ'), ('t', 'NN'), ('e', 'NN'), ('n', 'JJ'), ('c', 'NN'), ('e', 'NN'), ('s', 'JJ'), (' ', 'NNP'), ('f', 'NN'), ('l', 'NN'), ('y', 'NN'), (' ', 'NN'), ('i', 'NN'), ('n', 'VBP'), ('t', 'NN'), ('o', 'NN'), (' ', 'NNP'), ('y', 'NNP'), ('o', 'MD'), ('u', 'VB'), ('r', 'NN'), (' ', 'NNP'), ('m', 'NN'), ('o', 'NN'), ('u', 'JJ'), ('t', 'NN'), ('h', 'NN'), ('.', '.')]\n",
      "[('E', 'NNP'), ('v', 'NN'), ('e', 'NN'), ('n', 'JJ'), (' ', 'NNP'), ('t', 'NN'), ('h', 'NN'), ('e', 'NN'), (' ', 'VBZ'), ('a', 'DT'), ('l', 'NN'), ('l', 'SYM'), ('-', ':'), ('p', 'NN'), ('o', 'JJ'), ('w', 'NN'), ('e', 'NN'), ('r', 'NN'), ('f', 'NN'), ('u', 'JJ'), ('l', 'NN'), (' ', 'NNP'), ('P', 'NNP'), ('o', 'NN'), ('i', 'NN'), ('n', 'VBP'), ('t', 'NN'), ('i', 'NN'), ('n', 'VBP'), ('g', 'NN'), (' ', 'NN'), ('h', 'VBD'), ('a', 'DT'), ('s', 'JJ'), (' ', 'NN'), ('n', 'JJ'), ('o', 'NN'), (' ', 'NNP'), ('c', 'VBZ'), ('o', 'JJ'), ('n', 'JJ'), ('t', 'NN'), ('r', 'NN'), ('o', 'NN'), ('l', 'NN'), (' ', 'VBZ'), ('a', 'DT'), ('b', 'NN'), ('o', 'NN'), ('u', 'JJ'), ('t', 'NN'), (' ', 'NNP'), ('t', 'NN'), ('h', 'NN'), ('e', 'NN'), (' ', 'NNP'), ('b', 'NN'), ('l', 'NN'), ('i', 'NN'), ('n', 'VBP'), ('d', 'NN'), (' ', 'NNP'), ('t', 'NN'), ('e', 'NN'), ('x', 'NNP'), ('t', 'NN'), ('s', 'NN'), (' ', 'NN'), ('i', 'NN'), ('t', 'VBP'), (' ', 'NN'), ('i', 'NN'), ('s', 'VBP'), (' ', 'PDT'), ('a', 'DT'), ('n', 'JJ'), (' ', 'NN'), ('a', 'DT'), ('l', 'NN'), ('m', 'NN'), ('o', 'NN'), ('s', 'NN'), ('t', 'NN'), (' ', 'NNP'), ('u', 'JJ'), ('n', 'NN'), ('o', 'NN'), ('r', 'NN'), ('t', 'NN'), ('h', 'NN'), ('o', 'NN'), ('g', 'NN'), ('r', 'VBZ'), ('a', 'DT'), ('p', 'NN'), ('h', 'NN'), ('i', 'JJ'), ('c', 'VBP'), (' ', 'JJ'), ('l', 'NN'), ('i', 'NN'), ('f', 'VBP'), ('e', 'NN'), (' ', 'NNP'), ('O', 'NNP'), ('n', 'MD'), ('e', 'VB'), (' ', 'NNP'), ('d', 'VB'), ('a', 'DT'), ('y', 'NN'), (' ', 'NN'), ('h', 'NN'), ('o', 'JJ'), ('w', 'NN'), ('e', 'NN'), ('v', 'NN'), ('e', 'NN'), ('r', 'NN'), (' ', 'VBZ'), ('a', 'DT'), (' ', 'JJ'), ('s', 'NN'), ('m', 'VBD'), ('a', 'DT'), ('l', 'NN'), ('l', 'NN'), (' ', 'NNP'), ('l', 'NN'), ('i', 'NN'), ('n', 'VBP'), ('e', 'NN'), (' ', 'NNP'), ('o', 'VBZ'), ('f', 'JJ'), (' ', 'NNP'), ('b', 'NN'), ('l', 'NN'), ('i', 'NN'), ('n', 'VBP'), ('d', 'NN'), (' ', 'NNP'), ('t', 'NN'), ('e', 'NN'), ('x', 'NNP'), ('t', 'NN'), (' ', 'NNP'), ('b', 'NN'), ('y', 'NN'), (' ', 'NNP'), ('t', 'NN'), ('h', 'NN'), ('e', 'NN'), (' ', 'NNP'), ('n', 'VBZ'), ('a', 'DT'), ('m', 'NN'), ('e', 'NN'), (' ', 'NNP'), ('o', 'VBZ'), ('f', 'JJ'), (' ', 'NNP'), ('L', 'NNP'), ('o', 'MD'), ('r', 'VB'), ('e', 'JJ'), ('m', 'NN'), (' ', 'NN'), ('I', 'PRP'), ('p', 'VBP'), ('s', 'JJ'), ('u', 'JJ'), ('m', 'NN'), (' ', 'NNP'), ('d', 'NN'), ('e', 'NN'), ('c', 'NN'), ('i', 'NN'), ('d', 'VBP'), ('e', 'NN'), ('d', 'NN'), (' ', 'NNP'), ('t', 'NN'), ('o', 'NN'), (' ', 'NNP'), ('l', 'NN'), ('e', 'VBZ'), ('a', 'DT'), ('v', 'NN'), ('e', 'NN'), (' ', 'NNP'), ('f', 'NN'), ('o', 'NN'), ('r', 'NN'), (' ', 'NNP'), ('t', 'NN'), ('h', 'NN'), ('e', 'NN'), (' ', 'NNP'), ('f', 'VBZ'), ('a', 'DT'), ('r', 'NN'), (' ', 'NNP'), ('W', 'NNP'), ('o', 'MD'), ('r', 'VB'), ('l', 'NN'), ('d', 'NN'), (' ', 'NNP'), ('o', 'VBZ'), ('f', 'JJ'), (' ', 'NNP'), ('G', 'NNP'), ('r', 'VBZ'), ('a', 'DT'), ('m', 'NN'), ('m', 'NN'), ('a', 'DT'), ('r', 'NN'), ('.', '.')]\n",
      "[('T', 'NNP'), ('h', 'NN'), ('e', 'NN'), (' ', 'NNP'), ('B', 'NNP'), ('i', 'NN'), ('g', 'VBP'), (' ', 'JJ'), ('O', 'NNP'), ('x', 'NNP'), ('m', 'NN'), ('o', 'NN'), ('x', 'NNP'), (' ', 'VBZ'), ('a', 'DT'), ('d', 'JJ'), ('v', 'NN'), ('i', 'NN'), ('s', 'VBP'), ('e', 'NN'), ('d', 'NN'), (' ', 'NNP'), ('h', 'NN'), ('e', 'NN'), ('r', 'NN'), (' ', 'NNP'), ('n', 'CC'), ('o', 'JJ'), ('t', 'NN'), (' ', 'NNP'), ('t', 'NN'), ('o', 'NN'), (' ', 'NNP'), ('d', 'NN'), ('o', 'NN'), (' ', 'NNP'), ('s', 'NN'), ('o', 'NN'), (',', ','), (' ', 'NNP'), ('b', 'NN'), ('e', 'NN'), ('c', 'VBZ'), ('a', 'DT'), ('u', 'JJ'), ('s', 'NN'), ('e', 'NN'), (' ', 'NNP'), ('t', 'NN'), ('h', 'NN'), ('e', 'NN'), ('r', 'NN'), ('e', 'NN'), (' ', 'NNP'), ('w', 'NN'), ('e', 'NN'), ('r', 'NN'), ('e', 'NN'), (' ', 'NNP'), ('t', 'NN'), ('h', 'NN'), ('o', 'JJ'), ('u', 'JJ'), ('s', 'NN'), ('a', 'DT'), ('n', 'JJ'), ('d', 'NN'), ('s', 'NN'), (' ', 'NNP'), ('o', 'VBZ'), ('f', 'JJ'), (' ', 'NNP'), ('b', 'NN'), ('a', 'DT'), ('d', 'NN'), (' ', 'NNP'), ('C', 'NNP'), ('o', 'MD'), ('m', 'VB'), ('m', 'VB'), ('a', 'DT'), ('s', 'NN'), (',', ','), (' ', 'NNP'), ('w', 'NN'), ('i', 'NN'), ('l', 'VBP'), ('d', 'NN'), (' ', 'NNP'), ('Q', 'NNP'), ('u', 'JJ'), ('e', 'NN'), ('s', 'NN'), ('t', 'NN'), ('i', 'NN'), ('o', 'VBP'), ('n', 'JJ'), (' ', 'NNP'), ('M', 'NNP'), ('a', 'DT'), ('r', 'NN'), ('k', 'NN'), ('s', 'VBD'), (' ', 'PDT'), ('a', 'DT'), ('n', 'JJ'), ('d', 'NN'), (' ', 'NNP'), ('d', 'NN'), ('e', 'NN'), ('v', 'NN'), ('i', 'NN'), ('o', 'VBP'), ('u', 'JJ'), ('s', 'NN'), (' ', 'NNP'), ('S', 'NNP'), ('e', 'VBP'), ('m', 'NN'), ('i', 'NN'), ('k', 'VBP'), ('o', 'IN'), ('l', 'NN'), ('i', 'NN'), (',', ','), (' ', 'NN'), ('b', 'NN'), ('u', 'JJ'), ('t', 'NN'), (' ', 'NNP'), ('t', 'NN'), ('h', 'NN'), ('e', 'NN'), (' ', 'NNP'), ('L', 'NNP'), ('i', 'NN'), ('t', 'VBP'), ('t', 'NN'), ('l', 'NN'), ('e', 'NN'), (' ', 'NNP'), ('B', 'NNP'), ('l', 'NN'), ('i', 'NN'), ('n', 'VBP'), ('d', 'NN'), (' ', 'NNP'), ('T', 'NNP'), ('e', 'NN'), ('x', 'NNP'), ('t', 'NN'), (' ', 'NNP'), ('d', 'NN'), ('i', 'NN'), ('d', 'VBP'), ('n', 'JJ'), ('â', 'NNP'), ('€', 'NNP'), ('™', 'NNP'), ('t', 'NN'), (' ', 'NNP'), ('l', 'NN'), ('i', 'NN'), ('s', 'VBP'), ('t', 'NN'), ('e', 'NN'), ('n', 'NN'), ('.', '.')]\n",
      "[('S', 'NNP'), ('h', 'NN'), ('e', 'NN'), (' ', 'NNP'), ('p', 'VBZ'), ('a', 'DT'), ('c', 'JJ'), ('k', 'NN'), ('e', 'NN'), ('d', 'NN'), (' ', 'NNP'), ('h', 'NN'), ('e', 'NN'), ('r', 'NN'), (' ', 'NNP'), ('s', 'NN'), ('e', 'NN'), ('v', 'NN'), ('e', 'NN'), ('n', 'JJ'), (' ', 'NNP'), ('v', 'NN'), ('e', 'NN'), ('r', 'NN'), ('s', 'VBD'), ('a', 'DT'), ('l', 'NN'), ('i', 'NN'), ('a', 'DT'), (',', ','), (' ', 'JJ'), ('p', 'NN'), ('u', 'JJ'), ('t', 'NN'), (' ', 'NNP'), ('h', 'NN'), ('e', 'NN'), ('r', 'NN'), (' ', 'NN'), ('i', 'NN'), ('n', 'VBP'), ('i', 'JJ'), ('t', 'VBP'), ('i', 'VBP'), ('a', 'DT'), ('l', 'NN'), (' ', 'NN'), ('i', 'NN'), ('n', 'VBP'), ('t', 'NN'), ('o', 'NN'), (' ', 'NNP'), ('t', 'NN'), ('h', 'NN'), ('e', 'NN'), (' ', 'NNP'), ('b', 'NN'), ('e', 'NN'), ('l', 'NN'), ('t', 'NN'), (' ', 'VBZ'), ('a', 'DT'), ('n', 'JJ'), ('d', 'NN'), (' ', 'NNP'), ('m', 'VBZ'), ('a', 'DT'), ('d', 'NN'), ('e', 'NN'), (' ', 'NNP'), ('h', 'NN'), ('e', 'NN'), ('r', 'NN'), ('s', 'NN'), ('e', 'NN'), ('l', 'NN'), ('f', 'NN'), (' ', 'NNP'), ('o', 'VBZ'), ('n', 'JJ'), (' ', 'NNP'), ('t', 'NN'), ('h', 'NN'), ('e', 'NN'), (' ', 'NNP'), ('w', 'VBZ'), ('a', 'DT'), ('y', 'NN'), ('.', '.')]\n"
     ]
    },
    {
     "name": "stdout",
     "output_type": "stream",
     "text": [
      "[('W', 'NNP'), ('h', 'NN'), ('e', 'NN'), ('n', 'JJ'), (' ', 'NNP'), ('s', 'NN'), ('h', 'NN'), ('e', 'NN'), (' ', 'NNP'), ('r', 'NN'), ('e', 'VBZ'), ('a', 'DT'), ('c', 'NN'), ('h', 'NN'), ('e', 'NN'), ('d', 'NN'), (' ', 'NNP'), ('t', 'NN'), ('h', 'NN'), ('e', 'NN'), (' ', 'NNP'), ('f', 'NN'), ('i', 'NN'), ('r', 'VBP'), ('s', 'NN'), ('t', 'NN'), (' ', 'NNP'), ('h', 'NN'), ('i', 'NN'), ('l', 'VBP'), ('l', 'NN'), ('s', 'NN'), (' ', 'NNP'), ('o', 'VBZ'), ('f', 'JJ'), (' ', 'NNP'), ('t', 'NN'), ('h', 'NN'), ('e', 'NN'), (' ', 'NNP'), ('I', 'PRP'), ('t', 'VBP'), ('a', 'DT'), ('l', 'NN'), ('i', 'NN'), ('c', 'VBP'), (' ', 'NNP'), ('M', 'NNP'), ('o', 'MD'), ('u', 'VB'), ('n', 'JJ'), ('t', 'IN'), ('a', 'DT'), ('i', 'JJ'), ('n', 'NN'), ('s', 'NN'), (',', ','), (' ', 'NNP'), ('s', 'VBD'), ('h', 'JJ'), ('e', 'NN'), (' ', 'NNP'), ('h', 'VBZ'), ('a', 'DT'), ('d', 'NN'), (' ', 'VBZ'), ('a', 'DT'), (' ', 'JJ'), ('l', 'NN'), ('a', 'DT'), ('s', 'JJ'), ('t', 'NN'), (' ', 'NNP'), ('v', 'NN'), ('i', 'NN'), ('e', 'VBP'), ('w', 'NN'), (' ', 'NN'), ('b', 'VBD'), ('a', 'DT'), ('c', 'NN'), ('k', 'NN'), (' ', 'NNP'), ('o', 'VBZ'), ('n', 'JJ'), (' ', 'NNP'), ('t', 'NN'), ('h', 'NN'), ('e', 'NN'), (' ', 'NNP'), ('s', 'NN'), ('k', 'NN'), ('y', 'NNP'), ('l', 'NN'), ('i', 'NN'), ('n', 'VBP'), ('e', 'NN'), (' ', 'NNP'), ('o', 'VBZ'), ('f', 'JJ'), (' ', 'NNP'), ('h', 'NN'), ('e', 'NN'), ('r', 'NN'), (' ', 'NNP'), ('h', 'NN'), ('o', 'NN'), ('m', 'NN'), ('e', 'NN'), ('t', 'NN'), ('o', 'NN'), ('w', 'NN'), ('n', 'NN'), (' ', 'NN'), ('B', 'NNP'), ('o', 'NN'), ('o', 'NN'), ('k', 'NN'), ('m', 'VBD'), ('a', 'DT'), ('r', 'NN'), ('k', 'NN'), ('s', 'VBD'), ('g', 'JJ'), ('r', 'NN'), ('o', 'NN'), ('v', 'NN'), ('e', 'NN'), (',', ','), (' ', 'NNP'), ('t', 'NN'), ('h', 'NN'), ('e', 'NN'), (' ', 'NNP'), ('h', 'NN'), ('e', 'VBZ'), ('a', 'DT'), ('d', 'JJ'), ('l', 'NN'), ('i', 'NN'), ('n', 'VBP'), ('e', 'NN'), (' ', 'NNP'), ('o', 'VBZ'), ('f', 'JJ'), (' ', 'IN'), ('A', 'DT'), ('l', 'NN'), ('p', 'NN'), ('h', 'VBD'), ('a', 'DT'), ('b', 'NN'), ('e', 'NN'), ('t', 'NN'), (' ', 'NNP'), ('V', 'NNP'), ('i', 'NN'), ('l', 'VBP'), ('l', 'NN'), ('a', 'DT'), ('g', 'NN'), ('e', 'NN'), (' ', 'VBZ'), ('a', 'DT'), ('n', 'JJ'), ('d', 'NN'), (' ', 'NNP'), ('t', 'NN'), ('h', 'NN'), ('e', 'NN'), (' ', 'NNP'), ('s', 'NN'), ('u', 'NN'), ('b', 'IN'), ('l', 'NN'), ('i', 'NN'), ('n', 'VBP'), ('e', 'NN'), (' ', 'NNP'), ('o', 'VBZ'), ('f', 'JJ'), (' ', 'NNP'), ('h', 'NN'), ('e', 'NN'), ('r', 'NN'), (' ', 'NNP'), ('o', 'VBZ'), ('w', 'JJ'), ('n', 'JJ'), (' ', 'NN'), ('r', 'NN'), ('o', 'IN'), ('a', 'DT'), ('d', 'NN'), (',', ','), (' ', 'NNP'), ('t', 'NN'), ('h', 'NN'), ('e', 'NN'), (' ', 'NNP'), ('L', 'NNP'), ('i', 'NN'), ('n', 'VBP'), ('e', 'NN'), (' ', 'NNP'), ('L', 'NNP'), ('a', 'DT'), ('n', 'JJ'), ('e', 'NN'), ('.', '.')]\n",
      "[('P', 'NNP'), ('i', 'NN'), ('t', 'VBP'), ('y', 'NN'), ('f', 'NN'), ('u', 'JJ'), ('l', 'NN'), (' ', 'VBD'), ('a', 'DT'), (' ', 'JJ'), ('r', 'NN'), ('e', 'NN'), ('t', 'NN'), ('h', 'NN'), ('o', 'IN'), ('r', 'NN'), ('i', 'NN'), ('c', 'VBP'), (' ', 'JJ'), ('q', 'NN'), ('u', 'JJ'), ('e', 'NN'), ('s', 'NN'), ('t', 'NN'), ('i', 'NN'), ('o', 'VBP'), ('n', 'JJ'), (' ', 'NNP'), ('r', 'NN'), ('a', 'DT'), ('n', 'JJ'), (' ', 'NN'), ('o', 'NN'), ('v', 'NN'), ('e', 'NN'), ('r', 'NN'), (' ', 'NNP'), ('h', 'NN'), ('e', 'NN'), ('r', 'NN'), (' ', 'NNP'), ('c', 'NN'), ('h', 'NN'), ('e', 'NN'), ('e', 'NN'), ('k', 'NN'), (',', ','), (' ', 'NNP'), ('t', 'NN'), ('h', 'NN'), ('e', 'NN'), ('n', 'JJ'), (' ', 'NNP'), ('s', 'NN'), ('h', 'NN'), ('e', 'NN'), (' ', 'NNP'), ('c', 'VBZ'), ('o', 'JJ'), ('n', 'IN'), ('t', 'NN'), ('i', 'NN'), ('n', 'VBP'), ('u', 'JJ'), ('e', 'NN'), ('d', 'NN'), (' ', 'NNP'), ('h', 'NN'), ('e', 'NN'), ('r', 'NN'), (' ', 'NNP'), ('w', 'VBZ'), ('a', 'DT'), ('y', 'NN'), ('.', '.')]\n",
      "[('O', 'NNP'), ('n', 'CC'), (' ', 'NNP'), ('h', 'VBP'), ('e', 'JJ'), ('r', 'NN'), (' ', 'NNP'), ('w', 'VBZ'), ('a', 'DT'), ('y', 'NN'), (' ', 'NNP'), ('s', 'NN'), ('h', 'NN'), ('e', 'NN'), (' ', 'NNP'), ('m', 'NN'), ('e', 'NN'), ('t', 'NN'), (' ', 'VBZ'), ('a', 'DT'), (' ', 'JJ'), ('c', 'NN'), ('o', 'NN'), ('p', 'NN'), ('y', 'NN'), ('.', '.')]\n",
      "[('T', 'NNP'), ('h', 'NN'), ('e', 'NN'), (' ', 'NNP'), ('c', 'VBZ'), ('o', 'JJ'), ('p', 'NN'), ('y', 'NN'), (' ', 'NNP'), ('w', 'VBZ'), ('a', 'DT'), ('r', 'NN'), ('n', 'JJ'), ('e', 'NN'), ('d', 'NN'), (' ', 'NNP'), ('t', 'NN'), ('h', 'NN'), ('e', 'NN'), (' ', 'NNP'), ('L', 'NNP'), ('i', 'NN'), ('t', 'VBP'), ('t', 'NN'), ('l', 'NN'), ('e', 'NN'), (' ', 'NNP'), ('B', 'NNP'), ('l', 'NN'), ('i', 'NN'), ('n', 'VBP'), ('d', 'NN'), (' ', 'NNP'), ('T', 'NNP'), ('e', 'NN'), ('x', 'NNP'), ('t', 'NN'), (',', ','), (' ', 'NNP'), ('t', 'VBZ'), ('h', 'VB'), ('a', 'DT'), ('t', 'NN'), (' ', 'NNP'), ('w', 'NN'), ('h', 'NN'), ('e', 'NN'), ('r', 'NN'), ('e', 'NN'), (' ', 'NN'), ('i', 'NN'), ('t', 'VBP'), (' ', 'NNP'), ('c', 'VBP'), ('a', 'DT'), ('m', 'NN'), ('e', 'NN'), (' ', 'NNP'), ('f', 'NN'), ('r', 'NN'), ('o', 'IN'), ('m', 'JJ'), (' ', 'NN'), ('i', 'NN'), ('t', 'VBP'), (' ', 'JJ'), ('w', 'NN'), ('o', 'NN'), ('u', 'JJ'), ('l', 'NN'), ('d', 'NN'), (' ', 'NNP'), ('h', 'VBZ'), ('a', 'DT'), ('v', 'NN'), ('e', 'NN'), (' ', 'NNP'), ('b', 'NN'), ('e', 'NN'), ('e', 'NN'), ('n', 'JJ'), (' ', 'NNP'), ('r', 'NN'), ('e', 'NN'), ('w', 'IN'), ('r', 'NN'), ('i', 'NN'), ('t', 'VBP'), ('t', 'NN'), ('e', 'NN'), ('n', 'JJ'), (' ', 'VBZ'), ('a', 'DT'), (' ', 'JJ'), ('t', 'NN'), ('h', 'NN'), ('o', 'JJ'), ('u', 'JJ'), ('s', 'NN'), ('a', 'DT'), ('n', 'JJ'), ('d', 'NN'), (' ', 'NNP'), ('t', 'NN'), ('i', 'NN'), ('m', 'VBP'), ('e', 'NN'), ('s', 'NN'), (' ', 'VBZ'), ('a', 'DT'), ('n', 'JJ'), ('d', 'NN'), (' ', 'NNP'), ('e', 'NN'), ('v', 'NN'), ('e', 'NN'), ('r', 'NN'), ('y', 'NN'), ('t', 'NN'), ('h', 'NN'), ('i', 'JJ'), ('n', 'VBP'), ('g', 'JJ'), (' ', 'NNP'), ('t', 'NN'), ('h', 'VBD'), ('a', 'DT'), ('t', 'NN'), (' ', 'NNP'), ('w', 'VBZ'), ('a', 'DT'), ('s', 'JJ'), (' ', 'NN'), ('l', 'NN'), ('e', 'NN'), ('f', 'NN'), ('t', 'NN'), (' ', 'NNP'), ('f', 'NN'), ('r', 'NN'), ('o', 'IN'), ('m', 'JJ'), (' ', 'NN'), ('i', 'NN'), ('t', 'VBP'), ('s', 'NN'), (' ', 'NN'), ('o', 'IN'), ('r', 'NN'), ('i', 'NN'), ('g', 'VBP'), ('i', 'NN'), ('n', 'VBP'), (' ', 'JJ'), ('w', 'NN'), ('o', 'NN'), ('u', 'JJ'), ('l', 'NN'), ('d', 'NN'), (' ', 'NN'), ('b', 'NN'), ('e', 'NN'), (' ', 'NNP'), ('t', 'NN'), ('h', 'NN'), ('e', 'NN'), (' ', 'NNP'), ('w', 'NN'), ('o', 'NN'), ('r', 'NN'), ('d', 'NN'), (' ', 'NNP'), ('\"', 'VBZ'), ('a', 'DT'), ('n', 'JJ'), ('d', 'NN'), ('\"', 'NNP'), (' ', 'VBZ'), ('a', 'DT'), ('n', 'JJ'), ('d', 'NN'), (' ', 'NNP'), ('t', 'NN'), ('h', 'NN'), ('e', 'NN'), (' ', 'NNP'), ('L', 'NNP'), ('i', 'NN'), ('t', 'VBP'), ('t', 'NN'), ('l', 'NN'), ('e', 'NN'), (' ', 'NNP'), ('B', 'NNP'), ('l', 'NN'), ('i', 'NN'), ('n', 'VBP'), ('d', 'NN'), (' ', 'NNP'), ('T', 'NNP'), ('e', 'NN'), ('x', 'NNP'), ('t', 'NN'), (' ', 'NNP'), ('s', 'NN'), ('h', 'NN'), ('o', 'JJ'), ('u', 'JJ'), ('l', 'NN'), ('d', 'NN'), (' ', 'NNP'), ('t', 'NN'), ('u', 'JJ'), ('r', 'NN'), ('n', 'NN'), (' ', 'VBZ'), ('a', 'DT'), ('r', 'NN'), ('o', 'NN'), ('u', 'JJ'), ('n', 'JJ'), ('d', 'NN'), (' ', 'VBD'), ('a', 'DT'), ('n', 'JJ'), ('d', 'NN'), (' ', 'NNP'), ('r', 'NN'), ('e', 'NN'), ('t', 'NN'), ('u', 'JJ'), ('r', 'NN'), ('n', 'JJ'), (' ', 'NNP'), ('t', 'NN'), ('o', 'NN'), (' ', 'NN'), ('i', 'NN'), ('t', 'VBP'), ('s', 'NN'), (' ', 'NNP'), ('o', 'VBZ'), ('w', 'JJ'), ('n', 'NNS'), (',', ','), (' ', 'NNP'), ('s', 'VBD'), ('a', 'DT'), ('f', 'JJ'), ('e', 'NN'), (' ', 'NNP'), ('c', 'VBZ'), ('o', 'JJ'), ('u', 'JJ'), ('n', 'NN'), ('t', 'NN'), ('r', 'NN'), ('y', 'NN'), ('.', '.')]\n",
      "[('B', 'NNP'), ('u', 'JJ'), ('t', 'NN'), (' ', 'NNP'), ('n', 'CC'), ('o', 'JJ'), ('t', 'NN'), ('h', 'NN'), ('i', 'JJ'), ('n', 'VBP'), ('g', 'JJ'), (' ', 'NNP'), ('t', 'NN'), ('h', 'NN'), ('e', 'NN'), (' ', 'NNP'), ('c', 'VBZ'), ('o', 'JJ'), ('p', 'NN'), ('y', 'NN'), (' ', 'NNP'), ('s', 'VBZ'), ('a', 'DT'), ('i', 'JJ'), ('d', 'NN'), (' ', 'NNP'), ('c', 'VBZ'), ('o', 'JJ'), ('u', 'JJ'), ('l', 'NN'), ('d', 'NN'), (' ', 'NNP'), ('c', 'VBZ'), ('o', 'JJ'), ('n', 'IN'), ('v', 'NN'), ('i', 'NN'), ('n', 'VBP'), ('c', 'NN'), ('e', 'NN'), (' ', 'NNP'), ('h', 'NN'), ('e', 'NN'), ('r', 'NN'), (' ', 'VBZ'), ('a', 'DT'), ('n', 'JJ'), ('d', 'NN'), (' ', 'NNP'), ('s', 'NN'), ('o', 'NN'), (' ', 'NN'), ('i', 'NN'), ('t', 'VBP'), (' ', 'NNP'), ('d', 'NN'), ('i', 'NN'), ('d', 'VBP'), ('n', 'JJ'), ('â', 'NNP'), ('€', 'NNP'), ('™', 'NNP'), ('t', 'NN'), (' ', 'NNP'), ('t', 'VBZ'), ('a', 'DT'), ('k', 'NN'), ('e', 'NN'), (' ', 'NNP'), ('l', 'NN'), ('o', 'NN'), ('n', 'JJ'), ('g', 'NN'), (' ', 'NNP'), ('u', 'JJ'), ('n', 'JJ'), ('t', 'NN'), ('i', 'NN'), ('l', 'VBP'), (' ', 'PDT'), ('a', 'DT'), (' ', 'JJ'), ('f', 'NN'), ('e', 'NN'), ('w', 'IN'), (' ', 'NN'), ('i', 'NN'), ('n', 'VBP'), ('s', 'NN'), ('i', 'NN'), ('d', 'VBP'), ('i', 'NN'), ('o', 'VBP'), ('u', 'JJ'), ('s', 'NN'), (' ', 'NNP'), ('C', 'NNP'), ('o', 'MD'), ('p', 'VB'), ('y', 'JJ'), (' ', 'NNP'), ('W', 'NNP'), ('r', 'NN'), ('i', 'NN'), ('t', 'VBP'), ('e', 'NN'), ('r', 'NN'), ('s', 'NN'), (' ', 'VBZ'), ('a', 'DT'), ('m', 'NN'), ('b', 'NN'), ('u', 'JJ'), ('s', 'NN'), ('h', 'NN'), ('e', 'NN'), ('d', 'NN'), (' ', 'NNP'), ('h', 'NN'), ('e', 'NN'), ('r', 'NN'), (',', ','), (' ', 'NNP'), ('m', 'VBZ'), ('a', 'DT'), ('d', 'NN'), ('e', 'NN'), (' ', 'NNP'), ('h', 'NN'), ('e', 'NN'), ('r', 'NN'), (' ', 'NNP'), ('d', 'NN'), ('r', 'NN'), ('u', 'JJ'), ('n', 'JJ'), ('k', 'NN'), (' ', 'NNP'), ('w', 'NN'), ('i', 'NN'), ('t', 'VBP'), ('h', 'NN'), (' ', 'NNP'), ('L', 'NNP'), ('o', 'MD'), ('n', 'VB'), ('g', 'JJ'), ('e', 'NN'), (' ', 'VBD'), ('a', 'DT'), ('n', 'JJ'), ('d', 'NN'), (' ', 'NNP'), ('P', 'NNP'), ('a', 'DT'), ('r', 'NN'), ('o', 'NN'), ('l', 'NN'), ('e', 'NN'), (' ', 'VBZ'), ('a', 'DT'), ('n', 'JJ'), ('d', 'NN'), (' ', 'NNP'), ('d', 'NN'), ('r', 'NN'), ('a', 'DT'), ('g', 'NN'), ('g', 'NN'), ('e', 'NN'), ('d', 'NN'), (' ', 'NNP'), ('h', 'NN'), ('e', 'NN'), ('r', 'NN'), (' ', 'NN'), ('i', 'NN'), ('n', 'VBP'), ('t', 'NN'), ('o', 'NN'), (' ', 'NNP'), ('t', 'NN'), ('h', 'NN'), ('e', 'NN'), ('i', 'NN'), ('r', 'VBP'), (' ', 'PDT'), ('a', 'DT'), ('g', 'NN'), ('e', 'NN'), ('n', 'JJ'), ('c', 'NN'), ('y', 'NN'), (',', ','), (' ', 'NNP'), ('w', 'VBZ'), ('h', 'NN'), ('e', 'NN'), ('r', 'NN'), ('e', 'NN'), (' ', 'NNP'), ('t', 'NN'), ('h', 'NN'), ('e', 'NN'), ('y', 'NN'), (' ', 'VBZ'), ('a', 'DT'), ('b', 'NN'), ('u', 'JJ'), ('s', 'NN'), ('e', 'NN'), ('d', 'NN'), (' ', 'NNP'), ('h', 'NN'), ('e', 'NN'), ('r', 'NN'), (' ', 'NNP'), ('f', 'NN'), ('o', 'NN'), ('r', 'NN'), (' ', 'NNP'), ('t', 'NN'), ('h', 'NN'), ('e', 'NN'), ('i', 'NN'), ('r', 'VBP'), (' ', 'NN'), ('p', 'NN'), ('r', 'NN'), ('o', 'IN'), ('j', 'NN'), ('e', 'NN'), ('c', 'VBP'), ('t', 'NN'), ('s', 'NN'), (' ', 'VBZ'), ('a', 'DT'), ('g', 'NN'), ('a', 'DT'), ('i', 'NN'), ('n', 'MD'), (' ', 'VB'), ('a', 'DT'), ('n', 'JJ'), ('d', 'NN'), (' ', 'VBD'), ('a', 'DT'), ('g', 'NN'), ('a', 'DT'), ('i', 'JJ'), ('n', 'NN'), ('.', '.')]\n"
     ]
    },
    {
     "name": "stdout",
     "output_type": "stream",
     "text": [
      "[('A', 'DT'), ('n', 'JJ'), ('d', 'NN'), (' ', 'NN'), ('i', 'NN'), ('f', 'VBP'), (' ', 'JJ'), ('s', 'NN'), ('h', 'NN'), ('e', 'NN'), (' ', 'NNP'), ('h', 'VBZ'), ('a', 'DT'), ('s', 'JJ'), ('n', 'NN'), ('â', 'NNP'), ('€', 'NNP'), ('™', 'NNP'), ('t', 'NN'), (' ', 'NN'), ('b', 'NN'), ('e', 'NN'), ('e', 'NN'), ('n', 'JJ'), (' ', 'NNP'), ('r', 'NN'), ('e', 'NN'), ('w', 'IN'), ('r', 'NN'), ('i', 'NN'), ('t', 'VBP'), ('t', 'NN'), ('e', 'NN'), ('n', 'NN'), (',', ','), (' ', 'NNP'), ('t', 'NN'), ('h', 'NN'), ('e', 'NN'), ('n', 'JJ'), (' ', 'NNP'), ('t', 'NN'), ('h', 'NN'), ('e', 'NN'), ('y', 'NN'), (' ', 'VBZ'), ('a', 'DT'), ('r', 'NN'), ('e', 'NN'), (' ', 'NNP'), ('s', 'NN'), ('t', 'NN'), ('i', 'NN'), ('l', 'VBP'), ('l', 'NN'), (' ', 'NNP'), ('u', 'JJ'), ('s', 'NN'), ('i', 'NN'), ('n', 'VBP'), ('g', 'NN'), (' ', 'NN'), ('h', 'NN'), ('e', 'NN'), ('r', 'NN'), ('.', '.'), ('F', 'NNP'), ('a', 'DT'), ('r', 'NN'), (' ', 'NNP'), ('f', 'VBZ'), ('a', 'DT'), ('r', 'NN'), (' ', 'VBZ'), ('a', 'DT'), ('w', 'NN'), ('a', 'DT'), ('y', 'NN'), (',', ','), (' ', 'NNP'), ('b', 'NN'), ('e', 'NN'), ('h', 'NN'), ('i', 'JJ'), ('n', 'VBP'), ('d', 'JJ'), (' ', 'NNP'), ('t', 'NN'), ('h', 'NN'), ('e', 'NN'), (' ', 'NNP'), ('w', 'NN'), ('o', 'NN'), ('r', 'NN'), ('d', 'NN'), (' ', 'NNP'), ('m', 'NN'), ('o', 'NN'), ('u', 'JJ'), ('n', 'JJ'), ('t', 'IN'), ('a', 'DT'), ('i', 'JJ'), ('n', 'NN'), ('s', 'NN'), (',', ','), (' ', 'NNP'), ('f', 'VBZ'), ('a', 'DT'), ('r', 'NN'), (' ', 'NN'), ('f', 'NN'), ('r', 'NN'), ('o', 'IN'), ('m', 'NN'), (' ', 'NNP'), ('t', 'NN'), ('h', 'NN'), ('e', 'NN'), (' ', 'NNP'), ('c', 'VBZ'), ('o', 'JJ'), ('u', 'JJ'), ('n', 'NN'), ('t', 'NN'), ('r', 'NN'), ('i', 'NN'), ('e', 'VBP'), ('s', 'JJ'), (' ', 'NNP'), ('V', 'NNP'), ('o', 'MD'), ('k', 'VB'), ('a', 'DT'), ('l', 'NN'), ('i', 'NN'), ('a', 'DT'), (' ', 'NN'), ('a', 'DT'), ('n', 'JJ'), ('d', 'NN'), (' ', 'NNP'), ('C', 'NNP'), ('o', 'MD'), ('n', 'VB'), ('s', 'JJ'), ('o', 'NN'), ('n', 'IN'), ('a', 'DT'), ('n', 'JJ'), ('t', 'NN'), ('i', 'NN'), ('a', 'DT'), (',', ','), (' ', 'JJ'), ('t', 'NN'), ('h', 'NN'), ('e', 'NN'), ('r', 'NN'), ('e', 'NN'), (' ', 'NNP'), ('l', 'NN'), ('i', 'NN'), ('v', 'VBP'), ('e', 'NN'), (' ', 'NNP'), ('t', 'NN'), ('h', 'NN'), ('e', 'NN'), (' ', 'NNP'), ('b', 'NN'), ('l', 'NN'), ('i', 'NN'), ('n', 'VBP'), ('d', 'NN'), (' ', 'NNP'), ('t', 'NN'), ('e', 'NN'), ('x', 'NNP'), ('t', 'NN'), ('s', 'NN'), ('.', '.')]\n",
      "[('S', 'NNP'), ('e', 'VBZ'), ('p', 'VB'), ('a', 'DT'), ('r', 'NN'), ('a', 'DT'), ('t', 'NN'), ('e', 'NN'), ('d', 'NN'), (' ', 'NNP'), ('t', 'NN'), ('h', 'NN'), ('e', 'NN'), ('y', 'NN'), (' ', 'NNP'), ('l', 'NN'), ('i', 'NN'), ('v', 'VBP'), ('e', 'NN'), (' ', 'NN'), ('i', 'NN'), ('n', 'VBP'), (' ', 'NN'), ('B', 'NNP'), ('o', 'NN'), ('o', 'NN'), ('k', 'NN'), ('m', 'VBD'), ('a', 'DT'), ('r', 'NN'), ('k', 'NN'), ('s', 'VBD'), ('g', 'JJ'), ('r', 'NN'), ('o', 'NN'), ('v', 'NN'), ('e', 'NN'), (' ', 'NNP'), ('r', 'NN'), ('i', 'NN'), ('g', 'VBP'), ('h', 'NN'), ('t', 'NN'), (' ', 'VBZ'), ('a', 'DT'), ('t', 'NN'), (' ', 'NNP'), ('t', 'NN'), ('h', 'NN'), ('e', 'NN'), (' ', 'NNP'), ('c', 'VBZ'), ('o', 'RP'), ('a', 'DT'), ('s', 'NN'), ('t', 'NN'), (' ', 'NNP'), ('o', 'VBZ'), ('f', 'JJ'), (' ', 'NNP'), ('t', 'NN'), ('h', 'NN'), ('e', 'NN'), (' ', 'NNP'), ('S', 'NNP'), ('e', 'VBZ'), ('m', 'VB'), ('a', 'DT'), ('n', 'JJ'), ('t', 'NN'), ('i', 'NN'), ('c', 'VBP'), ('s', 'NN'), (',', ','), (' ', 'VB'), ('a', 'DT'), (' ', 'JJ'), ('l', 'NN'), ('a', 'DT'), ('r', 'NN'), ('g', 'NN'), ('e', 'NN'), (' ', 'NNP'), ('l', 'VBZ'), ('a', 'DT'), ('n', 'JJ'), ('g', 'NN'), ('u', 'IN'), ('a', 'DT'), ('g', 'NN'), ('e', 'NN'), (' ', 'NNP'), ('o', 'VBZ'), ('c', 'JJ'), ('e', 'NN'), ('a', 'DT'), ('n', 'NN'), ('.', '.')]\n",
      "[('A', 'DT'), (' ', 'JJ'), ('s', 'NN'), ('m', 'VBD'), ('a', 'DT'), ('l', 'NN'), ('l', 'NN'), (' ', 'NNP'), ('r', 'NN'), ('i', 'NN'), ('v', 'VBP'), ('e', 'NN'), ('r', 'NN'), (' ', 'NNP'), ('n', 'VBZ'), ('a', 'DT'), ('m', 'NN'), ('e', 'NN'), ('d', 'NN'), (' ', 'NNP'), ('D', 'NNP'), ('u', 'JJ'), ('d', 'NN'), ('e', 'NN'), ('n', 'JJ'), (' ', 'NNP'), ('f', 'NN'), ('l', 'NN'), ('o', 'NN'), ('w', 'NN'), ('s', 'NN'), (' ', 'NN'), ('b', 'NN'), ('y', 'NN'), (' ', 'NNP'), ('t', 'NN'), ('h', 'NN'), ('e', 'NN'), ('i', 'NN'), ('r', 'VBP'), (' ', 'JJ'), ('p', 'NN'), ('l', 'VBZ'), ('a', 'DT'), ('c', 'JJ'), ('e', 'NN'), (' ', 'VBZ'), ('a', 'DT'), ('n', 'JJ'), ('d', 'NN'), (' ', 'NNP'), ('s', 'NN'), ('u', 'JJ'), ('p', 'NN'), ('p', 'NN'), ('l', 'NN'), ('i', 'NN'), ('e', 'VBP'), ('s', 'JJ'), (' ', 'NN'), ('i', 'NN'), ('t', 'VBP'), (' ', 'IN'), ('w', 'NN'), ('i', 'NN'), ('t', 'VBP'), ('h', 'NN'), (' ', 'NNP'), ('t', 'NN'), ('h', 'NN'), ('e', 'NN'), (' ', 'NNP'), ('n', 'CC'), ('e', 'JJ'), ('c', 'NNS'), ('e', 'VBP'), ('s', 'JJ'), ('s', 'NN'), ('a', 'DT'), ('r', 'NN'), ('y', 'NN'), (' ', 'NNP'), ('r', 'NN'), ('e', 'NN'), ('g', 'NN'), ('e', 'NN'), ('l', 'NN'), ('i', 'VBZ'), ('a', 'DT'), ('l', 'NN'), ('i', 'NN'), ('a', 'DT'), ('.', '.')]\n",
      "[('I', 'PRP'), ('t', 'VBP'), (' ', 'JJ'), ('i', 'NN'), ('s', 'VBP'), (' ', 'PDT'), ('a', 'DT'), (' ', 'JJ'), ('p', 'NN'), ('a', 'DT'), ('r', 'NN'), ('a', 'DT'), ('d', 'NN'), ('i', 'NN'), ('s', 'VBP'), ('e', 'NN'), ('m', 'NN'), ('a', 'DT'), ('t', 'NN'), ('i', 'NN'), ('c', 'VBP'), (' ', 'NNP'), ('c', 'VBP'), ('o', 'JJ'), ('u', 'JJ'), ('n', 'NN'), ('t', 'NN'), ('r', 'NN'), ('y', 'NN'), (',', ','), (' ', 'VBP'), ('i', 'JJ'), ('n', 'VBP'), (' ', 'JJ'), ('w', 'NN'), ('h', 'NN'), ('i', 'JJ'), ('c', 'VBP'), ('h', 'NN'), (' ', 'NNP'), ('r', 'NN'), ('o', 'VBD'), ('a', 'DT'), ('s', 'JJ'), ('t', 'NN'), ('e', 'NN'), ('d', 'NN'), (' ', 'NNP'), ('p', 'VBZ'), ('a', 'DT'), ('r', 'NN'), ('t', 'NN'), ('s', 'NN'), (' ', 'NNP'), ('o', 'VBZ'), ('f', 'JJ'), (' ', 'NNP'), ('s', 'NN'), ('e', 'NN'), ('n', 'JJ'), ('t', 'NN'), ('e', 'NN'), ('n', 'JJ'), ('c', 'NN'), ('e', 'NN'), ('s', 'JJ'), (' ', 'NNP'), ('f', 'NN'), ('l', 'NN'), ('y', 'NN'), (' ', 'NN'), ('i', 'NN'), ('n', 'VBP'), ('t', 'NN'), ('o', 'NN'), (' ', 'NNP'), ('y', 'NNP'), ('o', 'MD'), ('u', 'VB'), ('r', 'NN'), (' ', 'NNP'), ('m', 'NN'), ('o', 'NN'), ('u', 'JJ'), ('t', 'NN'), ('h', 'NN'), ('.', '.')]\n",
      "[('E', 'NNP'), ('v', 'NN'), ('e', 'NN'), ('n', 'JJ'), (' ', 'NNP'), ('t', 'NN'), ('h', 'NN'), ('e', 'NN'), (' ', 'VBZ'), ('a', 'DT'), ('l', 'NN'), ('l', 'SYM'), ('-', ':'), ('p', 'NN'), ('o', 'JJ'), ('w', 'NN'), ('e', 'NN'), ('r', 'NN'), ('f', 'NN'), ('u', 'JJ'), ('l', 'NN'), (' ', 'NNP'), ('P', 'NNP'), ('o', 'NN'), ('i', 'NN'), ('n', 'VBP'), ('t', 'NN'), ('i', 'NN'), ('n', 'VBP'), ('g', 'NN'), (' ', 'NN'), ('h', 'VBD'), ('a', 'DT'), ('s', 'JJ'), (' ', 'NN'), ('n', 'JJ'), ('o', 'NN'), (' ', 'NNP'), ('c', 'VBZ'), ('o', 'JJ'), ('n', 'JJ'), ('t', 'NN'), ('r', 'NN'), ('o', 'NN'), ('l', 'NN'), (' ', 'VBZ'), ('a', 'DT'), ('b', 'NN'), ('o', 'NN'), ('u', 'JJ'), ('t', 'NN'), (' ', 'NNP'), ('t', 'NN'), ('h', 'NN'), ('e', 'NN'), (' ', 'NNP'), ('b', 'NN'), ('l', 'NN'), ('i', 'NN'), ('n', 'VBP'), ('d', 'NN'), (' ', 'NNP'), ('t', 'NN'), ('e', 'NN'), ('x', 'NNP'), ('t', 'NN'), ('s', 'NN'), (' ', 'NN'), ('i', 'NN'), ('t', 'VBP'), (' ', 'NN'), ('i', 'NN'), ('s', 'VBP'), (' ', 'PDT'), ('a', 'DT'), ('n', 'JJ'), (' ', 'NN'), ('a', 'DT'), ('l', 'NN'), ('m', 'NN'), ('o', 'NN'), ('s', 'NN'), ('t', 'NN'), (' ', 'NNP'), ('u', 'JJ'), ('n', 'NN'), ('o', 'NN'), ('r', 'NN'), ('t', 'NN'), ('h', 'NN'), ('o', 'NN'), ('g', 'NN'), ('r', 'VBZ'), ('a', 'DT'), ('p', 'NN'), ('h', 'NN'), ('i', 'JJ'), ('c', 'VBP'), (' ', 'JJ'), ('l', 'NN'), ('i', 'NN'), ('f', 'VBP'), ('e', 'NN'), (' ', 'NNP'), ('O', 'NNP'), ('n', 'MD'), ('e', 'VB'), (' ', 'NNP'), ('d', 'VB'), ('a', 'DT'), ('y', 'NN'), (' ', 'NN'), ('h', 'NN'), ('o', 'JJ'), ('w', 'NN'), ('e', 'NN'), ('v', 'NN'), ('e', 'NN'), ('r', 'NN'), (' ', 'VBZ'), ('a', 'DT'), (' ', 'JJ'), ('s', 'NN'), ('m', 'VBD'), ('a', 'DT'), ('l', 'NN'), ('l', 'NN'), (' ', 'NNP'), ('l', 'NN'), ('i', 'NN'), ('n', 'VBP'), ('e', 'NN'), (' ', 'NNP'), ('o', 'VBZ'), ('f', 'JJ'), (' ', 'NNP'), ('b', 'NN'), ('l', 'NN'), ('i', 'NN'), ('n', 'VBP'), ('d', 'NN'), (' ', 'NNP'), ('t', 'NN'), ('e', 'NN'), ('x', 'NNP'), ('t', 'NN'), (' ', 'NNP'), ('b', 'NN'), ('y', 'NN'), (' ', 'NNP'), ('t', 'NN'), ('h', 'NN'), ('e', 'NN'), (' ', 'NNP'), ('n', 'VBZ'), ('a', 'DT'), ('m', 'NN'), ('e', 'NN'), (' ', 'NNP'), ('o', 'VBZ'), ('f', 'JJ'), (' ', 'NNP'), ('L', 'NNP'), ('o', 'MD'), ('r', 'VB'), ('e', 'JJ'), ('m', 'NN'), (' ', 'NN'), ('I', 'PRP'), ('p', 'VBP'), ('s', 'JJ'), ('u', 'JJ'), ('m', 'NN'), (' ', 'NNP'), ('d', 'NN'), ('e', 'NN'), ('c', 'NN'), ('i', 'NN'), ('d', 'VBP'), ('e', 'NN'), ('d', 'NN'), (' ', 'NNP'), ('t', 'NN'), ('o', 'NN'), (' ', 'NNP'), ('l', 'NN'), ('e', 'VBZ'), ('a', 'DT'), ('v', 'NN'), ('e', 'NN'), (' ', 'NNP'), ('f', 'NN'), ('o', 'NN'), ('r', 'NN'), (' ', 'NNP'), ('t', 'NN'), ('h', 'NN'), ('e', 'NN'), (' ', 'NNP'), ('f', 'VBZ'), ('a', 'DT'), ('r', 'NN'), (' ', 'NNP'), ('W', 'NNP'), ('o', 'MD'), ('r', 'VB'), ('l', 'NN'), ('d', 'NN'), (' ', 'NNP'), ('o', 'VBZ'), ('f', 'JJ'), (' ', 'NNP'), ('G', 'NNP'), ('r', 'VBZ'), ('a', 'DT'), ('m', 'NN'), ('m', 'NN'), ('a', 'DT'), ('r', 'NN'), ('.', '.')]\n"
     ]
    },
    {
     "name": "stdout",
     "output_type": "stream",
     "text": [
      "[('T', 'NNP'), ('h', 'NN'), ('e', 'NN'), (' ', 'NNP'), ('B', 'NNP'), ('i', 'NN'), ('g', 'VBP'), (' ', 'JJ'), ('O', 'NNP'), ('x', 'NNP'), ('m', 'NN'), ('o', 'NN'), ('x', 'NNP'), (' ', 'VBZ'), ('a', 'DT'), ('d', 'JJ'), ('v', 'NN'), ('i', 'NN'), ('s', 'VBP'), ('e', 'NN'), ('d', 'NN'), (' ', 'NNP'), ('h', 'NN'), ('e', 'NN'), ('r', 'NN'), (' ', 'NNP'), ('n', 'CC'), ('o', 'JJ'), ('t', 'NN'), (' ', 'NNP'), ('t', 'NN'), ('o', 'NN'), (' ', 'NNP'), ('d', 'NN'), ('o', 'NN'), (' ', 'NNP'), ('s', 'NN'), ('o', 'NN'), (',', ','), (' ', 'NNP'), ('b', 'NN'), ('e', 'NN'), ('c', 'VBZ'), ('a', 'DT'), ('u', 'JJ'), ('s', 'NN'), ('e', 'NN'), (' ', 'NNP'), ('t', 'NN'), ('h', 'NN'), ('e', 'NN'), ('r', 'NN'), ('e', 'NN'), (' ', 'NNP'), ('w', 'NN'), ('e', 'NN'), ('r', 'NN'), ('e', 'NN'), (' ', 'NNP'), ('t', 'NN'), ('h', 'NN'), ('o', 'JJ'), ('u', 'JJ'), ('s', 'NN'), ('a', 'DT'), ('n', 'JJ'), ('d', 'NN'), ('s', 'NN'), (' ', 'NNP'), ('o', 'VBZ'), ('f', 'JJ'), (' ', 'NNP'), ('b', 'NN'), ('a', 'DT'), ('d', 'NN'), (' ', 'NNP'), ('C', 'NNP'), ('o', 'MD'), ('m', 'VB'), ('m', 'VB'), ('a', 'DT'), ('s', 'NN'), (',', ','), (' ', 'NNP'), ('w', 'NN'), ('i', 'NN'), ('l', 'VBP'), ('d', 'NN'), (' ', 'NNP'), ('Q', 'NNP'), ('u', 'JJ'), ('e', 'NN'), ('s', 'NN'), ('t', 'NN'), ('i', 'NN'), ('o', 'VBP'), ('n', 'JJ'), (' ', 'NNP'), ('M', 'NNP'), ('a', 'DT'), ('r', 'NN'), ('k', 'NN'), ('s', 'VBD'), (' ', 'PDT'), ('a', 'DT'), ('n', 'JJ'), ('d', 'NN'), (' ', 'NNP'), ('d', 'NN'), ('e', 'NN'), ('v', 'NN'), ('i', 'NN'), ('o', 'VBP'), ('u', 'JJ'), ('s', 'NN'), (' ', 'NNP'), ('S', 'NNP'), ('e', 'VBP'), ('m', 'NN'), ('i', 'NN'), ('k', 'VBP'), ('o', 'IN'), ('l', 'NN'), ('i', 'NN'), (',', ','), (' ', 'NN'), ('b', 'NN'), ('u', 'JJ'), ('t', 'NN'), (' ', 'NNP'), ('t', 'NN'), ('h', 'NN'), ('e', 'NN'), (' ', 'NNP'), ('L', 'NNP'), ('i', 'NN'), ('t', 'VBP'), ('t', 'NN'), ('l', 'NN'), ('e', 'NN'), (' ', 'NNP'), ('B', 'NNP'), ('l', 'NN'), ('i', 'NN'), ('n', 'VBP'), ('d', 'NN'), (' ', 'NNP'), ('T', 'NNP'), ('e', 'NN'), ('x', 'NNP'), ('t', 'NN'), (' ', 'NNP'), ('d', 'NN'), ('i', 'NN'), ('d', 'VBP'), ('n', 'JJ'), ('â', 'NNP'), ('€', 'NNP'), ('™', 'NNP'), ('t', 'NN'), (' ', 'NNP'), ('l', 'NN'), ('i', 'NN'), ('s', 'VBP'), ('t', 'NN'), ('e', 'NN'), ('n', 'NN'), ('.', '.')]\n",
      "[('S', 'NNP'), ('h', 'NN'), ('e', 'NN'), (' ', 'NNP'), ('p', 'VBZ'), ('a', 'DT'), ('c', 'JJ'), ('k', 'NN'), ('e', 'NN'), ('d', 'NN'), (' ', 'NNP'), ('h', 'NN'), ('e', 'NN'), ('r', 'NN'), (' ', 'NNP'), ('s', 'NN'), ('e', 'NN'), ('v', 'NN'), ('e', 'NN'), ('n', 'JJ'), (' ', 'NNP'), ('v', 'NN'), ('e', 'NN'), ('r', 'NN'), ('s', 'VBD'), ('a', 'DT'), ('l', 'NN'), ('i', 'NN'), ('a', 'DT'), (',', ','), (' ', 'JJ'), ('p', 'NN'), ('u', 'JJ'), ('t', 'NN'), (' ', 'NNP'), ('h', 'NN'), ('e', 'NN'), ('r', 'NN'), (' ', 'NN'), ('i', 'NN'), ('n', 'VBP'), ('i', 'JJ'), ('t', 'VBP'), ('i', 'VBP'), ('a', 'DT'), ('l', 'NN'), (' ', 'NN'), ('i', 'NN'), ('n', 'VBP'), ('t', 'NN'), ('o', 'NN'), (' ', 'NNP'), ('t', 'NN'), ('h', 'NN'), ('e', 'NN'), (' ', 'NNP'), ('b', 'NN'), ('e', 'NN'), ('l', 'NN'), ('t', 'NN'), (' ', 'VBZ'), ('a', 'DT'), ('n', 'JJ'), ('d', 'NN'), (' ', 'NNP'), ('m', 'VBZ'), ('a', 'DT'), ('d', 'NN'), ('e', 'NN'), (' ', 'NNP'), ('h', 'NN'), ('e', 'NN'), ('r', 'NN'), ('s', 'NN'), ('e', 'NN'), ('l', 'NN'), ('f', 'NN'), (' ', 'NNP'), ('o', 'VBZ'), ('n', 'JJ'), (' ', 'NNP'), ('t', 'NN'), ('h', 'NN'), ('e', 'NN'), (' ', 'NNP'), ('w', 'VBZ'), ('a', 'DT'), ('y', 'NN'), ('.', '.')]\n",
      "[('W', 'NNP'), ('h', 'NN'), ('e', 'NN'), ('n', 'JJ'), (' ', 'NNP'), ('s', 'NN'), ('h', 'NN'), ('e', 'NN'), (' ', 'NNP'), ('r', 'NN'), ('e', 'VBZ'), ('a', 'DT'), ('c', 'NN'), ('h', 'NN'), ('e', 'NN'), ('d', 'NN'), (' ', 'NNP'), ('t', 'NN'), ('h', 'NN'), ('e', 'NN'), (' ', 'NNP'), ('f', 'NN'), ('i', 'NN'), ('r', 'VBP'), ('s', 'NN'), ('t', 'NN'), (' ', 'NNP'), ('h', 'NN'), ('i', 'NN'), ('l', 'VBP'), ('l', 'NN'), ('s', 'NN'), (' ', 'NNP'), ('o', 'VBZ'), ('f', 'JJ'), (' ', 'NNP'), ('t', 'NN'), ('h', 'NN'), ('e', 'NN'), (' ', 'NNP'), ('I', 'PRP'), ('t', 'VBP'), ('a', 'DT'), ('l', 'NN'), ('i', 'NN'), ('c', 'VBP'), (' ', 'NNP'), ('M', 'NNP'), ('o', 'MD'), ('u', 'VB'), ('n', 'JJ'), ('t', 'IN'), ('a', 'DT'), ('i', 'JJ'), ('n', 'NN'), ('s', 'NN'), (',', ','), (' ', 'NNP'), ('s', 'VBD'), ('h', 'JJ'), ('e', 'NN'), (' ', 'NNP'), ('h', 'VBZ'), ('a', 'DT'), ('d', 'NN'), (' ', 'VBZ'), ('a', 'DT'), (' ', 'JJ'), ('l', 'NN'), ('a', 'DT'), ('s', 'JJ'), ('t', 'NN'), (' ', 'NNP'), ('v', 'NN'), ('i', 'NN'), ('e', 'VBP'), ('w', 'NN'), (' ', 'NN'), ('b', 'VBD'), ('a', 'DT'), ('c', 'NN'), ('k', 'NN'), (' ', 'NNP'), ('o', 'VBZ'), ('n', 'JJ'), (' ', 'NNP'), ('t', 'NN'), ('h', 'NN'), ('e', 'NN'), (' ', 'NNP'), ('s', 'NN'), ('k', 'NN'), ('y', 'NNP'), ('l', 'NN'), ('i', 'NN'), ('n', 'VBP'), ('e', 'NN'), (' ', 'NNP'), ('o', 'VBZ'), ('f', 'JJ'), (' ', 'NNP'), ('h', 'NN'), ('e', 'NN'), ('r', 'NN'), (' ', 'NNP'), ('h', 'NN'), ('o', 'NN'), ('m', 'NN'), ('e', 'NN'), ('t', 'NN'), ('o', 'NN'), ('w', 'NN'), ('n', 'NN'), (' ', 'NN'), ('B', 'NNP'), ('o', 'NN'), ('o', 'NN'), ('k', 'NN'), ('m', 'VBD'), ('a', 'DT'), ('r', 'NN'), ('k', 'NN'), ('s', 'VBD'), ('g', 'JJ'), ('r', 'NN'), ('o', 'NN'), ('v', 'NN'), ('e', 'NN'), (',', ','), (' ', 'NNP'), ('t', 'NN'), ('h', 'NN'), ('e', 'NN'), (' ', 'NNP'), ('h', 'NN'), ('e', 'VBZ'), ('a', 'DT'), ('d', 'JJ'), ('l', 'NN'), ('i', 'NN'), ('n', 'VBP'), ('e', 'NN'), (' ', 'NNP'), ('o', 'VBZ'), ('f', 'JJ'), (' ', 'IN'), ('A', 'DT'), ('l', 'NN'), ('p', 'NN'), ('h', 'VBD'), ('a', 'DT'), ('b', 'NN'), ('e', 'NN'), ('t', 'NN'), (' ', 'NNP'), ('V', 'NNP'), ('i', 'NN'), ('l', 'VBP'), ('l', 'NN'), ('a', 'DT'), ('g', 'NN'), ('e', 'NN'), (' ', 'VBZ'), ('a', 'DT'), ('n', 'JJ'), ('d', 'NN'), (' ', 'NNP'), ('t', 'NN'), ('h', 'NN'), ('e', 'NN')]\n"
     ]
    }
   ],
   "source": [
    "for sent in PunkTokenize:\n",
    "    word_token = word_tokenize(sent)\n",
    "    taggs = nltk.pos_tag(sent)\n",
    "    print(taggs)"
   ]
  },
  {
   "cell_type": "markdown",
   "metadata": {},
   "source": [
    "###### SO, this is the output, where every word has it's own PARTs of Speech Tagging"
   ]
  },
  {
   "cell_type": "markdown",
   "metadata": {},
   "source": [
    "###### You can check all the tags from the above POS tags "
   ]
  },
  {
   "cell_type": "code",
   "execution_count": null,
   "metadata": {},
   "outputs": [],
   "source": []
  }
 ],
 "metadata": {
  "kernelspec": {
   "display_name": "Python 3",
   "language": "python",
   "name": "python3"
  },
  "language_info": {
   "codemirror_mode": {
    "name": "ipython",
    "version": 3
   },
   "file_extension": ".py",
   "mimetype": "text/x-python",
   "name": "python",
   "nbconvert_exporter": "python",
   "pygments_lexer": "ipython3",
   "version": "3.7.5"
  }
 },
 "nbformat": 4,
 "nbformat_minor": 2
}
